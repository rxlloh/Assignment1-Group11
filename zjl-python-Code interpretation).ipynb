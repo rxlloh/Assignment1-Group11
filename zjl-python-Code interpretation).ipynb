{
 "cells": [
  {
   "cell_type": "code",
   "execution_count": null,
   "id": "218013cd",
   "metadata": {},
   "outputs": [],
   "source": [
    "# Assignment 1 - Income Prediction via Multimodel Supervised Learning Algorithms"
   ]
  },
  {
   "cell_type": "code",
   "execution_count": null,
   "id": "3fca5780",
   "metadata": {},
   "outputs": [],
   "source": [
    "# I used seven python algorithms to complete this assignment: Gradient Tree Boosting,Decision Tree,XGBoost,Random Forest,SVM,Light GBM,Naive Bayes.\n",
    "# The algorithm that I found to work best on this task was XGBoost.\n",
    "# In this notebook,I will report how I process the data, compare the performance of different algorithms, select the best algorithm and adjust the relevant parameters."
   ]
  },
  {
   "cell_type": "code",
   "execution_count": null,
   "id": "39519378",
   "metadata": {},
   "outputs": [],
   "source": [
    "# Data Processing\n",
    "\n",
    "import pandas as pd\n",
    "import numpy as np\n",
    "\n",
    "#Load data\n",
    "data_training=pd.read_csv('census-income-training.csv',header=0)\n",
    "data_test=pd.read_csv('census-income-test.csv',header=0)\n",
    "\n",
    "#Split the data into features and target label and drop invalid feature\n",
    "#I found there were \"? \"in these columns below,so I delete these columns.\n",
    "#In addition, I found that all values were the same in column PARENT, so I delete this column too.\n",
    "invalid_feature = 'GRINREG','MIGMTR1','MIGMTR3','MIGSAME','PARENT','PEFNTVTY','PEMNTVTY','PENATVTY'\n",
    "income_raw_training = data_training['income_morethan_50K']\n",
    "features_raw_training = data_training.drop(['income_morethan_50K','Id','GRINREG','MIGMTR1','MIGMTR3','MIGSAME','PARENT','PEFNTVTY','PEMNTVTY','PENATVTY'],axis=1)\n",
    "features_raw_test = data_test.drop(['Id','GRINREG','MIGMTR1','MIGMTR3','MIGSAME','PARENT','PEFNTVTY','PEMNTVTY','PENATVTY'],axis=1)\n",
    "\n",
    "#Transforming Skewed Continuous Features\n",
    "#I find some values tend to lie near a single number, or whose values have a non-trivial number of vastly larger or smaller values than that single number\n",
    "#So I apply a logarithmic transformation on the data so that the very large and very small values do not negatively affect the performance of the learning algorithms.\n",
    "#Since the logarithm of 0 is undefined, I use a logarithmic transformation with an addition by a small amount above 0.\n",
    "#Since the logarithm of 0 is undefined, we translate the values by a small amount above 0 to apply the the logarithm successfully.\n",
    "skewed = ['AHRSPAY','CAPGAIN', 'CAPLOSS','DIVVAL']\n",
    "features_log_transformed_training = pd.DataFrame(features_raw_training)\n",
    "features_log_transformed_training[skewed] = features_raw_training[skewed].apply(lambda x: np.log(x + 1))\n",
    "features_log_transformed_test = pd.DataFrame(features_raw_test)\n",
    "features_log_transformed_test[skewed] = features_raw_test[skewed].apply(lambda x: np.log(x + 1))\n",
    "\n",
    "#Normalizing Numerical Features\n",
    "#Of all the features, the values of some discrete variables vary a lot,so I implement a normalization procedure.\n",
    "from sklearn.preprocessing import MinMaxScaler\n",
    "scaler = MinMaxScaler() \n",
    "numerical = ['AAGE', 'ADTOCC', 'AHRSPAY', 'CAPGAIN','CAPLOSS', 'DIVVAL','HHDREL','NOEMP']\n",
    "features_log_minmax_transform_training = pd.DataFrame(features_log_transformed_training)\n",
    "features_log_minmax_transform_training[numerical] = scaler.fit_transform(features_log_transformed_training[numerical])\n",
    "features_log_minmax_transform_test = pd.DataFrame(features_log_transformed_test)\n",
    "features_log_minmax_transform_test[numerical] = scaler.fit_transform(features_log_transformed_test[numerical])\n",
    "\n",
    "#Convert Categorical Variables\n",
    "#I use a one-hot encoding procedure to create a \"dummy\" variable for each possible category of each non-numeric feature.\n",
    "features_training_final = pd.get_dummies(features_log_minmax_transform_training)\n",
    "features_test_final = pd.get_dummies(features_log_minmax_transform_test)\n",
    "income_training_final= income_raw_training\n",
    "\n"
   ]
  },
  {
   "cell_type": "code",
   "execution_count": null,
   "id": "9b1bc496",
   "metadata": {},
   "outputs": [],
   "source": [
    "#Algorithms:GTB,Desicion Tree,Xgboost,Random forest,SVM,Naive Bayes\n",
    "\n",
    "#Split the Data into Training and Test Sets\n",
    "#I first used train data to check the performance of each algorithm\n",
    "from sklearn.model_selection import train_test_split\n",
    "x_train, x_test, y_train, y_test = train_test_split(features_training_final,income_training_final,test_size = 0.2,random_state = 0)\n",
    "\n",
    "#GTB\n",
    "from sklearn.datasets import make_hastie_10_2\n",
    "from sklearn.ensemble import GradientBoostingClassifier\n",
    "GTB = GradientBoostingClassifier()\n",
    "GTB.fit(x_train,y_train)\n",
    "GTB_y_predict=GTB.predict(x_test)\n",
    "GTB.score(x_test,y_test)\n",
    "\n",
    "print('score of Desicion Tree')\n",
    "print(GTB.score(x_test,y_test))\n",
    "\n",
    "from sklearn.metrics import classification_report\n",
    "print('Prediction accuracy of GTB')\n",
    "print(classification_report(y_test,GTB_y_predict))\n",
    "\n",
    "#Desicion Tree\n",
    "from sklearn import tree\n",
    "dt = tree.DecisionTreeClassifier()\n",
    "dt.fit(x_train,y_train)\n",
    "dt_y_predict=dt.predict(x_test)\n",
    "dt.score(x_test,y_test)\n",
    "\n",
    "print('score of Desicion Tree')\n",
    "print(dt.score(x_test,y_test))\n",
    "\n",
    "print('Prediction accuracy of Desicion Tree')\n",
    "print(classification_report(y_test,dt_y_predict))\n",
    "\n",
    "#Xgboost\n",
    "from xgboost import XGBClassifier\n",
    "xgbc=XGBClassifier()\n",
    "xgbc.fit(x_train,y_train)\n",
    "xgbc_y_predict=xgbc.predict(x_test)\n",
    "xgbc.score(x_test,y_test)\n",
    "\n",
    "print('score of XGBoost')\n",
    "print(xgbc.score(x_test,y_test))\n",
    "\n",
    "print('Prediction accuracy of XGBoost')\n",
    "print(classification_report(y_test,xgbc_y_predict))\n",
    "\n",
    "#Random forest\n",
    "from sklearn.ensemble import RandomForestClassifier\n",
    "rfc=RandomForestClassifier()\n",
    "rfc.fit(x_train,y_train)\n",
    "rfc_y_predict=rfc.predict(x_test)\n",
    "rfc.score(x_test,y_test)\n",
    "\n",
    "print('score of random forest')\n",
    "print(rfc.score(x_test,y_test))\n",
    "\n",
    "print('Prediction accuracy of random forest')\n",
    "print(classification_report(y_test,rfc_y_predict))\n",
    "\n",
    "#SVM\n",
    "from sklearn import svm\n",
    "svm = svm.SVC()\n",
    "svm.fit(x_train, y_train)\n",
    "svm_y_predict=svm.predict(x_test)\n",
    "svm.score(x_train, y_train)\n",
    "\n",
    "print('score of SVM')\n",
    "print(svm.score(x_train, y_train) )\n",
    "\n",
    "print('Prediction accuracy of SVM')\n",
    "print(classification_report(y_test, svm_y_predict))\n",
    "\n",
    "#Naive Bayes\n",
    "from sklearn.naive_bayes import MultinomialNB\n",
    "MNB = MultinomialNB()\n",
    "MNB.fit(x_train,y_train)\n",
    "MNB_y_predict=MNB.predict(x_test)\n",
    "MNB.score(x_test,y_test)\n",
    "\n",
    "print('score of Desicion Tree')\n",
    "print(MNB.score(x_test,y_test))\n",
    "\n",
    "print('Prediction accuracy of Bayesian Network')\n",
    "print(classification_report(y_test,MNB_y_predict))\n",
    "\n",
    "#I also tried another algorithm Light GBM, but didn't include it in the comparison because it was a simple GTB.\n",
    "\n",
    "#Due to computer performance problems, please check the corresponding files for specific codes and results of each algorithm"
   ]
  },
  {
   "cell_type": "code",
   "execution_count": 11,
   "id": "b01535c8",
   "metadata": {},
   "outputs": [
    {
     "data": {
      "image/png": "[encoded data removed]",
      "text/plain": [
       "<Figure size 432x288 with 1 Axes>"
      ]
     },
     "metadata": {
      "needs_background": "light"
     },
     "output_type": "display_data"
    },
    {
     "data": {
      "image/png": "[encoded data removed]",
      "text/plain": [
       "<Figure size 432x288 with 1 Axes>"
      ]
     },
     "metadata": {
      "needs_background": "light"
     },
     "output_type": "display_data"
    }
   ],
   "source": [
    "#The Performance of Each Algorithm\n",
    "import matplotlib.pyplot as plt\n",
    "from matplotlib.pyplot import MultipleLocator\n",
    "\n",
    "num_list_score =[0.9439988116458705,0.9119132501485443,0.9459298871063577,0.9422162804515746,0.9197118241235889,0.6665181224004754]\n",
    "name_list_score=['GTB','Desicion Tree','Xgboost','Random Forest','SVM','Naive Bayes']\n",
    "plt.bar(range(len(num_list_score)),num_list_score,tick_label=name_list_score)\n",
    "plt.title('F1-Score of Each Algorithm')\n",
    "plt.ylim(0.6,1)\n",
    "plt.show() \n",
    "\n",
    "\n",
    "num_list_score =[0.9439988116458705,0.9119132501485443,0.9459298871063577,0.9422162804515746,0.9197118241235889]\n",
    "name_list_score=['GTB','Desicion Tree','Xgboost','Random Forest','SVM']\n",
    "plt.bar(range(len(num_list_score)),num_list_score,tick_label=name_list_score)\n",
    "plt.title('F1-Score of Each Algorithm')\n",
    "plt.ylim(0.9,0.97)\n",
    "plt.show() \n",
    "\n",
    "#According to the score and accuracy of each algorithm,I found XGBoost to be the best.\n",
    "#Next, I'll use the XGBoost algorithm for further analysis."
   ]
  },
  {
   "cell_type": "code",
   "execution_count": null,
   "id": "027d39bc",
   "metadata": {},
   "outputs": [],
   "source": [
    "#Use another way to process data\n",
    "#After discussion with my teammates, I tried to label the missing value NA as a specific label for analysis, and the code is as follows.\n",
    "\n",
    "#data_training_clean=data_training.replace(regex=[r'\\?'],value=np.nan)\n",
    "#data_training=data_training_clean.fillna(0)\n",
    "\n",
    "#But it turns out that the prediction effect is not as good as deleting these columns.\n",
    "#Therefore, in the subsequent analysis, I will adopt the original data processing method."
   ]
  },
  {
   "cell_type": "code",
   "execution_count": 15,
   "id": "9f48a3ad",
   "metadata": {},
   "outputs": [
    {
     "data": {
      "image/png": "[encoded data removed]",
      "text/plain": [
       "<Figure size 432x288 with 1 Axes>"
      ]
     },
     "metadata": {
      "needs_background": "light"
     },
     "output_type": "display_data"
    }
   ],
   "source": [
    "#Parameter optimization\n",
    "# I used GridSearchCV to test the best parameters\n",
    "#I test the optimal values for max_depth, min_child_weight,gamma,subsample,colsample_bytree\n",
    "#Only the adjusted results are shown here\n",
    "#Please refer to Assignment 1 (Adjust the parameters) -xgboost for details\n",
    "\n",
    "num_list_score =[0.9459298871063577,0.946078431372549]\n",
    "name_list_score=['Xgboost-before','Xgboost-after']\n",
    "plt.bar(range(len(num_list_score)),num_list_score,tick_label=name_list_score)\n",
    "plt.title('F1-Score of Each Algorithm')\n",
    "plt.ylim(0.944,0.947)\n",
    "plt.show() \n"
   ]
  },
  {
   "cell_type": "code",
   "execution_count": null,
   "id": "f50200f0",
   "metadata": {},
   "outputs": [],
   "source": [
    "#Prediction\n",
    "#After selecting the optimal algorithm and adjusting the relevant parameters, we use this model for prediction,the code are as follow\n",
    "\n",
    "xgbc=XGBClassifier(base_score=0.5, booster='gbtree', colsample_bylevel=1,\n",
    "              colsample_bynode=1, colsample_bytree=0.8, enable_categorical=False,\n",
    "              gamma=0, gpu_id=-1, importance_type=None,\n",
    "              interaction_constraints='', learning_rate=0.300000012,\n",
    "              max_delta_step=0, max_depth=4, min_child_weight=3,\n",
    "              monotone_constraints='()', n_estimators=100, n_jobs=8,\n",
    "              num_parallel_tree=1, predictor='auto', random_state=0,\n",
    "              reg_alpha=0, reg_lambda=1, scale_pos_weight=1, subsample=0.85,\n",
    "              tree_method='exact', validate_parameters=1, verbosity=None)\n",
    "\n",
    "xgbc.fit(x_train,y_train)\n",
    "xgbc_y_predict=xgbc.predict(x_test)\n",
    "xgbc_predict = pd.DataFrame(xgbc_y_predict,columns=['income_morethan_50K'])\n",
    "xgbc_predict.to_csv('xgbc_predict.csv')"
   ]
  },
  {
   "cell_type": "code",
   "execution_count": null,
   "id": "878e2dd8",
   "metadata": {},
   "outputs": [],
   "source": [
    "#Unfortunately, when I compared the predictions uploaded to Kaggle, I found that XGBoost, with its default parameters, did the best.\n",
    "#Could you please tell me why?"
   ]
  }
 ],
 "metadata": {
  "kernelspec": {
   "display_name": "Python 3",
   "language": "python",
   "name": "python3"
  },
  "language_info": {
   "codemirror_mode": {
    "name": "ipython",
    "version": 3
   },
   "file_extension": ".py",
   "mimetype": "text/x-python",
   "name": "python",
   "nbconvert_exporter": "python",
   "pygments_lexer": "ipython3",
   "version": "3.8.8"
  }
 },
 "nbformat": 4,
 "nbformat_minor": 5
}
