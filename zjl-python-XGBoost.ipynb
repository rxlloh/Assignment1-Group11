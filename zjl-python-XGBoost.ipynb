{
 "cells": [
  {
   "cell_type": "code",
   "execution_count": 3,
   "id": "4f091808",
   "metadata": {},
   "outputs": [
    {
     "name": "stderr",
     "output_type": "stream",
     "text": [
      "C:\\ProgramData\\Anaconda3\\lib\\site-packages\\xgboost\\sklearn.py:1224: UserWarning: The use of label encoder in XGBClassifier is deprecated and will be removed in a future release. To remove this warning, do the following: 1) Pass option use_label_encoder=False when constructing XGBClassifier object; and 2) Encode your labels (y) as integers starting with 0, i.e. 0, 1, 2, ..., [num_class - 1].\n",
      "  warnings.warn(label_encoder_deprecation_msg, UserWarning)\n"
     ]
    },
    {
     "name": "stdout",
     "output_type": "stream",
     "text": [
      "[23:07:17] WARNING: C:/Users/Administrator/workspace/xgboost-win64_release_1.5.1/src/learner.cc:1115: Starting in XGBoost 1.3.0, the default evaluation metric used with the objective 'binary:logistic' was changed from 'error' to 'logloss'. Explicitly set eval_metric if you'd like to restore the old behavior.\n",
      "score of XGBoost\n",
      "0.9459298871063577\n",
      "Prediction accuracy of XGBoost\n",
      "              precision    recall  f1-score   support\n",
      "\n",
      "           0       0.96      0.99      0.97     12434\n",
      "           1       0.73      0.46      0.57      1030\n",
      "\n",
      "    accuracy                           0.95     13464\n",
      "   macro avg       0.84      0.72      0.77     13464\n",
      "weighted avg       0.94      0.95      0.94     13464\n",
      "\n"
     ]
    }
   ],
   "source": [
    "import pandas as pd\n",
    "import numpy as np\n",
    "\n",
    "\n",
    "#Load data\n",
    "data_training=pd.read_csv('census-income-training.csv',header=0)\n",
    "\n",
    "#Clean data\n",
    "#replace invalid or missing entries(delete individual row)\n",
    "data_training_clean=data_training.replace(regex=[r'\\?'],value=np.nan)\n",
    "data_training=data_training_clean.dropna(how='any')\n",
    "\n",
    "\n",
    "# Split the data into features and target label\n",
    "income_raw = data_training['income_morethan_50K']\n",
    "features_raw = data_training.drop(['income_morethan_50K','Id','GRINREG','MIGMTR1','MIGMTR3','MIGSAME','PARENT','PEFNTVTY','PEMNTVTY','PENATVTY'],axis=1)\n",
    "\n",
    "\n",
    "# Visualize skewed continuous features of original data\n",
    "#vs.distribution(data)\n",
    "\n",
    "# Log-transform the skewed features\n",
    "skewed = ['AHRSPAY','CAPGAIN', 'CAPLOSS','DIVVAL']\n",
    "features_log_transformed = pd.DataFrame(features_raw)\n",
    "features_log_transformed[skewed] = features_raw[skewed].apply(lambda x: np.log(x + 1))\n",
    "\n",
    "#Normalizing Numerical Features\n",
    "from sklearn.preprocessing import MinMaxScaler\n",
    "scaler = MinMaxScaler() # default=(0, 1)\n",
    "numerical = ['AAGE', 'ADTOCC', 'AHRSPAY', 'CAPGAIN','CAPLOSS', 'DIVVAL','HHDREL','NOEMP']\n",
    "features_log_minmax_transform = pd.DataFrame(features_log_transformed)\n",
    "features_log_minmax_transform[numerical] = scaler.fit_transform(features_log_transformed[numerical])\n",
    "\n",
    "# Data Preprocessing: One-hot encode the 'features_log_minmax_transform' data using pandas.get_dummies()\n",
    "features_final = pd.get_dummies(features_log_minmax_transform)\n",
    "income_final= income_raw\n",
    "\n",
    "# Print the number of features after one-hot encoding\n",
    "#encoded = list(features_final.columns)\n",
    "#print ' total features after one-hot encoding.'\n",
    "#display (encoded)\n",
    "\n",
    "#Split the Data into Training and Test Sets\n",
    "from sklearn.model_selection import train_test_split\n",
    "x_train, x_test, y_train, y_test = train_test_split(features_final,income_final,test_size = 0.2,random_state = 0)\n",
    "\n",
    "#Xgboost\n",
    "from xgboost import XGBClassifier\n",
    "xgbc=XGBClassifier()\n",
    "\n",
    "xgbc.fit(x_train,y_train)\n",
    "xgbc_y_predict=xgbc.predict(x_test)\n",
    "xgbc.score(x_test,y_test)\n",
    "print('score of XGBoost')\n",
    "print(xgbc.score(x_test,y_test))\n",
    "\n",
    "#Accuracy of prediction\n",
    "from sklearn.metrics import classification_report\n",
    "print('Prediction accuracy of XGBoost')\n",
    "print(classification_report(y_test,xgbc_y_predict))\n"
   ]
  },
  {
   "cell_type": "code",
   "execution_count": null,
   "id": "f0228470",
   "metadata": {},
   "outputs": [],
   "source": []
  }
 ],
 "metadata": {
  "kernelspec": {
   "display_name": "Python 3",
   "language": "python",
   "name": "python3"
  },
  "language_info": {
   "codemirror_mode": {
    "name": "ipython",
    "version": 3
   },
   "file_extension": ".py",
   "mimetype": "text/x-python",
   "name": "python",
   "nbconvert_exporter": "python",
   "pygments_lexer": "ipython3",
   "version": "3.8.8"
  }
 },
 "nbformat": 4,
 "nbformat_minor": 5
}
