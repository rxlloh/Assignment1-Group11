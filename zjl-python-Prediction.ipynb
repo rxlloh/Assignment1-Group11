{
 "cells": [
  {
   "cell_type": "code",
   "execution_count": 2,
   "id": "642f0ae4",
   "metadata": {},
   "outputs": [
    {
     "name": "stderr",
     "output_type": "stream",
     "text": [
      "C:\\ProgramData\\Anaconda3\\lib\\site-packages\\xgboost\\sklearn.py:1224: UserWarning: The use of label encoder in XGBClassifier is deprecated and will be removed in a future release. To remove this warning, do the following: 1) Pass option use_label_encoder=False when constructing XGBClassifier object; and 2) Encode your labels (y) as integers starting with 0, i.e. 0, 1, 2, ..., [num_class - 1].\n",
      "  warnings.warn(label_encoder_deprecation_msg, UserWarning)\n"
     ]
    },
    {
     "name": "stdout",
     "output_type": "stream",
     "text": [
      "[08:04:22] WARNING: C:/Users/Administrator/workspace/xgboost-win64_release_1.5.1/src/learner.cc:1115: Starting in XGBoost 1.3.0, the default evaluation metric used with the objective 'binary:logistic' was changed from 'error' to 'logloss'. Explicitly set eval_metric if you'd like to restore the old behavior.\n"
     ]
    }
   ],
   "source": [
    "import pandas as pd\n",
    "import numpy as np\n",
    "\n",
    "\n",
    "#Load data\n",
    "data_training=pd.read_csv('census-income-training.csv',header=0)\n",
    "data_test=pd.read_csv('census-income-test.csv',header=0)\n",
    "\n",
    "#Clean data\n",
    "#replace invalid or missing entries(delete individual row)\n",
    "# data_training_clean=data_training.replace(regex=[r'\\?'],value=np.nan)\n",
    "# data_training=data_training_clean.dropna(how='any')\n",
    "# data_test_clean=data_test.replace(regex=[r'\\?'],value=np.nan)\n",
    "# data_test=data_test_clean.dropna(how='any')\n",
    "\n",
    "\n",
    "# Split the data into features and target label\n",
    "# drop invalid feature\n",
    "invalid_feature = 'GRINREG','MIGMTR1','MIGMTR3','MIGSAME','PARENT','PEFNTVTY','PEMNTVTY','PENATVTY'\n",
    "income_raw_training = data_training['income_morethan_50K']\n",
    "features_raw_training = data_training.drop(['income_morethan_50K','Id','GRINREG','MIGMTR1','MIGMTR3','MIGSAME','PARENT','PEFNTVTY','PEMNTVTY','PENATVTY'],axis=1)\n",
    "\n",
    "features_raw_test = data_test.drop(['Id','GRINREG','MIGMTR1','MIGMTR3','MIGSAME','PARENT','PEFNTVTY','PEMNTVTY','PENATVTY'],axis=1)\n",
    "\n",
    "\n",
    "# Visualize skewed continuous features of original data\n",
    "#vs.distribution(data)\n",
    "\n",
    "# Log-transform the skewed features\n",
    "skewed = ['AHRSPAY','CAPGAIN', 'CAPLOSS','DIVVAL']\n",
    "features_log_transformed_training = pd.DataFrame(features_raw_training)\n",
    "features_log_transformed_training[skewed] = features_raw_training[skewed].apply(lambda x: np.log(x + 1))\n",
    "features_log_transformed_test = pd.DataFrame(features_raw_test)\n",
    "features_log_transformed_test[skewed] = features_raw_test[skewed].apply(lambda x: np.log(x + 1))\n",
    "\n",
    "#Normalizing Numerical Features\n",
    "from sklearn.preprocessing import MinMaxScaler\n",
    "scaler = MinMaxScaler() # default=(0, 1)\n",
    "numerical = ['AAGE', 'ADTOCC', 'AHRSPAY', 'CAPGAIN','CAPLOSS', 'DIVVAL','HHDREL','NOEMP']\n",
    "features_log_minmax_transform_training = pd.DataFrame(features_log_transformed_training)\n",
    "features_log_minmax_transform_training[numerical] = scaler.fit_transform(features_log_transformed_training[numerical])\n",
    "features_log_minmax_transform_test = pd.DataFrame(features_log_transformed_test)\n",
    "features_log_minmax_transform_test[numerical] = scaler.fit_transform(features_log_transformed_test[numerical])\n",
    "\n",
    "# Data Preprocessing: One-hot encode the 'features_log_minmax_transform' data using pandas.get_dummies()\n",
    "features_training_final = pd.get_dummies(features_log_minmax_transform_training)\n",
    "features_test_final = pd.get_dummies(features_log_minmax_transform_test)\n",
    "income_training_final= income_raw_training\n",
    "\n",
    "# Print the number of features after one-hot encoding\n",
    "#encoded = list(features_final.columns)\n",
    "#print ' total features after one-hot encoding.'\n",
    "#display (encoded)\n",
    "\n",
    "#Split the Data into Training and Test Sets\n",
    "from sklearn.model_selection import train_test_split\n",
    "x_train=features_training_final\n",
    "x_test=features_test_final\n",
    "y_train=income_training_final\n",
    "\n",
    "\n",
    "# Xgboost\n",
    "from xgboost import XGBClassifier\n",
    "# xgbc=XGBClassifier()\n",
    "# xgbc.fit(x_train,y_train)\n",
    "# xgbc_y_predict=xgbc.predict(x_test)\n",
    "# xgbc_predict = pd.DataFrame(xgbc_y_predict,columns=['prediction_income_morethan_50K'])\n",
    "# xgbc_predict.to_csv('xgbc_predict.csv')\n",
    "\n",
    "\n",
    "xgbc=XGBClassifier(base_score=0.5, booster='gbtree', colsample_bylevel=1,\n",
    "              colsample_bynode=1, colsample_bytree=0.8, enable_categorical=False,\n",
    "              gamma=0, gpu_id=-1, importance_type=None,\n",
    "              interaction_constraints='', learning_rate=0.300000012,\n",
    "              max_delta_step=0, max_depth=4, min_child_weight=3,\n",
    "              monotone_constraints='()', n_estimators=100, n_jobs=8,\n",
    "              num_parallel_tree=1, predictor='auto', random_state=0,\n",
    "              reg_alpha=0, reg_lambda=1, scale_pos_weight=1, subsample=0.85,\n",
    "              tree_method='exact', validate_parameters=1, verbosity=None)\n",
    "\n",
    "xgbc.fit(x_train,y_train)\n",
    "xgbc_y_predict=xgbc.predict(x_test)\n",
    "xgbc_predict = pd.DataFrame(xgbc_y_predict,columns=['income_morethan_50K'])\n",
    "xgbc_predict.to_csv('xgbc_predict.csv')"
   ]
  },
  {
   "cell_type": "code",
   "execution_count": null,
   "id": "848b76d4",
   "metadata": {},
   "outputs": [],
   "source": []
  },
  {
   "cell_type": "code",
   "execution_count": null,
   "id": "3575c239",
   "metadata": {},
   "outputs": [],
   "source": []
  }
 ],
 "metadata": {
  "kernelspec": {
   "display_name": "Python 3",
   "language": "python",
   "name": "python3"
  },
  "language_info": {
   "codemirror_mode": {
    "name": "ipython",
    "version": 3
   },
   "file_extension": ".py",
   "mimetype": "text/x-python",
   "name": "python",
   "nbconvert_exporter": "python",
   "pygments_lexer": "ipython3",
   "version": "3.8.8"
  }
 },
 "nbformat": 4,
 "nbformat_minor": 5
}
