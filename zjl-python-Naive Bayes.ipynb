{
 "cells": [
  {
   "cell_type": "code",
   "execution_count": 1,
   "id": "9ddd768a",
   "metadata": {},
   "outputs": [
    {
     "name": "stdout",
     "output_type": "stream",
     "text": [
      "score of Bayesian Network\n",
      "0.6665181224004754\n",
      "Prediction accuracy of Bayesian Network\n",
      "              precision    recall  f1-score   support\n",
      "\n",
      "           0       0.98      0.65      0.78     12434\n",
      "           1       0.17      0.87      0.28      1030\n",
      "\n",
      "    accuracy                           0.67     13464\n",
      "   macro avg       0.58      0.76      0.53     13464\n",
      "weighted avg       0.92      0.67      0.74     13464\n",
      "\n"
     ]
    }
   ],
   "source": [
    "import pandas as pd\n",
    "import numpy as np\n",
    "\n",
    "\n",
    "#Load data\n",
    "data_training=pd.read_csv('census-income-training.csv',header=0)\n",
    "\n",
    "#Clean data\n",
    "#replace invalid or missing entries(delete individual row)\n",
    "data_training_clean=data_training.replace(regex=[r'\\?'],value=np.nan)\n",
    "data_training=data_training_clean.dropna(how='any')\n",
    "\n",
    "\n",
    "# Split the data into features and target label\n",
    "income_raw = data_training['income_morethan_50K']\n",
    "features_raw = data_training.drop(['income_morethan_50K','Id','GRINREG','MIGMTR1','MIGMTR3','MIGSAME','PARENT','PEFNTVTY','PEMNTVTY','PENATVTY'],axis=1)\n",
    "\n",
    "\n",
    "# Visualize skewed continuous features of original data\n",
    "#vs.distribution(data)\n",
    "\n",
    "# Log-transform the skewed features\n",
    "skewed = ['AHRSPAY','CAPGAIN', 'CAPLOSS','DIVVAL']\n",
    "features_log_transformed = pd.DataFrame(features_raw)\n",
    "features_log_transformed[skewed] = features_raw[skewed].apply(lambda x: np.log(x + 1))\n",
    "\n",
    "#Normalizing Numerical Features\n",
    "from sklearn.preprocessing import MinMaxScaler\n",
    "scaler = MinMaxScaler() # default=(0, 1)\n",
    "numerical = ['AAGE', 'ADTOCC', 'AHRSPAY', 'CAPGAIN','CAPLOSS', 'DIVVAL','HHDREL','NOEMP']\n",
    "features_log_minmax_transform = pd.DataFrame(features_log_transformed)\n",
    "features_log_minmax_transform[numerical] = scaler.fit_transform(features_log_transformed[numerical])\n",
    "\n",
    "# Data Preprocessing: One-hot encode the 'features_log_minmax_transform' data using pandas.get_dummies()\n",
    "features_final = pd.get_dummies(features_log_minmax_transform)\n",
    "income_final= income_raw\n",
    "\n",
    "# Print the number of features after one-hot encoding\n",
    "#encoded = list(features_final.columns)\n",
    "#print ' total features after one-hot encoding.'\n",
    "#display (encoded)\n",
    "\n",
    "#Split the Data into Training and Test Sets\n",
    "from sklearn.model_selection import train_test_split\n",
    "x_train, x_test, y_train, y_test = train_test_split(features_final,income_final,test_size = 0.2,random_state = 0)\n",
    "\n",
    "#GTB\n",
    "from sklearn.naive_bayes import MultinomialNB\n",
    "\n",
    "\n",
    "MNB = MultinomialNB()\n",
    "\n",
    "MNB.fit(x_train,y_train)\n",
    "MNB_y_predict=MNB.predict(x_test)\n",
    "MNB.score(x_test,y_test)\n",
    "print('score of Bayesian Network')\n",
    "print(MNB.score(x_test,y_test))\n",
    "\n",
    "#Accuracy of prediction\n",
    "from sklearn.metrics import classification_report\n",
    "print('Prediction accuracy of Bayesian Network')\n",
    "print(classification_report(y_test,MNB_y_predict))\n"
   ]
  },
  {
   "cell_type": "code",
   "execution_count": null,
   "id": "16ac6b8a",
   "metadata": {},
   "outputs": [],
   "source": []
  }
 ],
 "metadata": {
  "kernelspec": {
   "display_name": "Python 3",
   "language": "python",
   "name": "python3"
  },
  "language_info": {
   "codemirror_mode": {
    "name": "ipython",
    "version": 3
   },
   "file_extension": ".py",
   "mimetype": "text/x-python",
   "name": "python",
   "nbconvert_exporter": "python",
   "pygments_lexer": "ipython3",
   "version": "3.8.8"
  }
 },
 "nbformat": 4,
 "nbformat_minor": 5
}
